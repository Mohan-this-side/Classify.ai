{
 "cells": [
  {
   "cell_type": "markdown",
   "id": "0121c62e",
   "metadata": {},
   "source": [
    "# Machine Learning Classification Project"
   ]
  },
  {
   "cell_type": "markdown",
   "id": "b6bc4d08",
   "metadata": {},
   "source": [
    "## Dataset Loading"
   ]
  },
  {
   "cell_type": "code",
   "execution_count": null,
   "id": "2cb66a65",
   "metadata": {},
   "outputs": [],
   "source": [
    "\n",
    "import pandas as pd\n",
    "import numpy as np\n",
    "from sklearn.model_selection import train_test_split\n",
    "from sklearn.ensemble import RandomForestClassifier\n",
    "from sklearn.metrics import accuracy_score, classification_report\n",
    "import joblib\n",
    "\n",
    "# Load dataset\n",
    "df = pd.read_csv('dataset.csv')\n",
    "print(f\"Dataset shape: {df.shape}\")\n",
    "print(f\"Target column: 'is_churned'\")\n"
   ]
  },
  {
   "cell_type": "markdown",
   "id": "de194665",
   "metadata": {},
   "source": [
    "## Data Cleaning"
   ]
  },
  {
   "cell_type": "code",
   "execution_count": null,
   "id": "9fea8e00",
   "metadata": {},
   "outputs": [],
   "source": [
    "\n",
    "# Data cleaning steps\n",
    "cleaned_df = df.copy()\n",
    "\n",
    "# Handle missing values\n",
    "cleaned_df = cleaned_df.fillna(cleaned_df.mean())\n",
    "\n",
    "# Remove duplicates\n",
    "cleaned_df = cleaned_df.drop_duplicates()\n",
    "\n",
    "print(f\"Cleaned dataset shape: {cleaned_df.shape}\")\n",
    "print(f\"Data quality score: 1.00\")\n"
   ]
  },
  {
   "cell_type": "markdown",
   "id": "542d7904",
   "metadata": {},
   "source": [
    "## Model Training"
   ]
  },
  {
   "cell_type": "code",
   "execution_count": null,
   "id": "d71343f8",
   "metadata": {},
   "outputs": [],
   "source": [
    "\n",
    "# Prepare features and target\n",
    "X = cleaned_df.drop(columns=['is_churned'])\n",
    "y = cleaned_df['is_churned']\n",
    "\n",
    "# Handle categorical variables\n",
    "X = pd.get_dummies(X, drop_first=True)\n",
    "\n",
    "# Split data\n",
    "X_train, X_test, y_train, y_test = train_test_split(X, y, test_size=0.2, random_state=42)\n",
    "\n",
    "# Train model\n",
    "model = svm()\n",
    "model.fit(X_train, y_train)\n",
    "\n",
    "# Make predictions\n",
    "y_pred = model.predict(X_test)\n",
    "accuracy = accuracy_score(y_test, y_pred)\n",
    "print(f\"Model accuracy: {accuracy:.4f}\")\n"
   ]
  },
  {
   "cell_type": "markdown",
   "id": "9d70ca30",
   "metadata": {},
   "source": [
    "## Model Evaluation"
   ]
  },
  {
   "cell_type": "code",
   "execution_count": null,
   "id": "12e9882b",
   "metadata": {},
   "outputs": [],
   "source": [
    "\n",
    "# Generate classification report\n",
    "print(\"Classification Report:\")\n",
    "print(classification_report(y_test, y_pred))\n",
    "\n",
    "# Feature importance\n",
    "if hasattr(model, 'feature_importances_'):\n",
    "    feature_importance = pd.DataFrame({\n",
    "        'feature': X.columns,\n",
    "        'importance': model.feature_importances_\n",
    "    }).sort_values('importance', ascending=False)\n",
    "    \n",
    "    print(\"\\nFeature Importance:\")\n",
    "    print(feature_importance.head(10))\n"
   ]
  }
 ],
 "metadata": {},
 "nbformat": 4,
 "nbformat_minor": 5
}
